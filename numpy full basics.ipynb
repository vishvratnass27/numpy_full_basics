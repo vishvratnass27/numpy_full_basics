{
 "cells": [
  {
   "cell_type": "code",
   "execution_count": 1,
   "id": "da8ff38e",
   "metadata": {},
   "outputs": [
    {
     "data": {
      "text/plain": [
       "array([10, 20, 30, 40])"
      ]
     },
     "execution_count": 1,
     "metadata": {},
     "output_type": "execute_result"
    }
   ],
   "source": [
    "#numpy\n",
    "'''What is NumPy?\n",
    "NumPy is a Python library used for working with arrays.\n",
    "\n",
    "It also has functions for working in domain of linear algebra, fourier transform, and matrices.\n",
    "\n",
    "NumPy was created in 2005 by Travis Oliphant. It is an open source project and you can use it freely.\n",
    "\n",
    "NumPy stands for Numerical Python.'''\n",
    "\n",
    "\n",
    "'''Why Use NumPy?\n",
    "In Python we have lists that serve the purpose of arrays, but they are slow to process.\n",
    "\n",
    "NumPy aims to provide an array object that is up to 50x faster than traditional Python lists.\n",
    "\n",
    "The array object in NumPy is called ndarray, it provides a lot of supporting functions that make working \n",
    "with ndarray very easy.\n",
    "\n",
    "Arrays are very frequently used in data science, where speed and resources are very important.'''\n",
    "\n",
    "\n",
    "'''Why is NumPy Faster Than Lists?\n",
    "NumPy arrays are stored at one continuous place in memory unlike lists, so processes can access and manipulate\n",
    "them very efficiently.\n",
    "\n",
    "This behavior is called locality of reference in computer science.\n",
    "\n",
    "This is the main reason why NumPy is faster than lists. Also it is optimized to work with latest CPU architectures.\n",
    "\n",
    "'''\n",
    "\n",
    "'''Data Science: is a branch of computer science where we study how to store, use and analyze data for \n",
    "deriving information from it.'''\n",
    "\n",
    "'''pip install numpy'''\n",
    "\n",
    "'''type(): This built-in Python function tells us the type of the object passed to it. Like in above code it\n",
    "shows that arr is numpy.ndarray type.'''\n",
    "\n",
    "\n",
    "\n",
    "#single dimensional array\n",
    "\n",
    "import numpy as np\n",
    "\n",
    "n1 = np.array([10,20,30,40])\n",
    "n1"
   ]
  },
  {
   "cell_type": "code",
   "execution_count": 2,
   "id": "dcf6098b",
   "metadata": {},
   "outputs": [
    {
     "data": {
      "text/plain": [
       "numpy.ndarray"
      ]
     },
     "execution_count": 2,
     "metadata": {},
     "output_type": "execute_result"
    }
   ],
   "source": [
    "type(n1)"
   ]
  },
  {
   "cell_type": "code",
   "execution_count": 3,
   "id": "5175b5d6",
   "metadata": {},
   "outputs": [
    {
     "data": {
      "text/plain": [
       "array([[10, 20, 30, 40],\n",
       "       [40, 30, 20, 10]])"
      ]
     },
     "execution_count": 3,
     "metadata": {},
     "output_type": "execute_result"
    }
   ],
   "source": [
    "#multi dimensional array\n",
    "import numpy as np\n",
    "n2 = np.array([[10,20,30,40],[40,30,20,10]])\n",
    "n2"
   ]
  },
  {
   "cell_type": "code",
   "execution_count": 4,
   "id": "b6ce0007",
   "metadata": {},
   "outputs": [
    {
     "data": {
      "text/plain": [
       "array([[0., 0.]])"
      ]
     },
     "execution_count": 4,
     "metadata": {},
     "output_type": "execute_result"
    }
   ],
   "source": [
    "#initializing numpy array with zeros    \n",
    "#zeros methods\n",
    "import numpy as np\n",
    "n3 = np.zeros((1,2))   #note 1 is row and 2 is coluam \n",
    "n3"
   ]
  },
  {
   "cell_type": "code",
   "execution_count": 5,
   "id": "d77bb46d",
   "metadata": {},
   "outputs": [
    {
     "data": {
      "text/plain": [
       "array([[0., 0., 0., 0., 0.],\n",
       "       [0., 0., 0., 0., 0.],\n",
       "       [0., 0., 0., 0., 0.],\n",
       "       [0., 0., 0., 0., 0.],\n",
       "       [0., 0., 0., 0., 0.]])"
      ]
     },
     "execution_count": 5,
     "metadata": {},
     "output_type": "execute_result"
    }
   ],
   "source": [
    "import numpy as np\n",
    "n4 = np.zeros((5,5))  #note 5 is row and 5 is coluam \n",
    "n4"
   ]
  },
  {
   "cell_type": "code",
   "execution_count": 6,
   "id": "9f1408a7",
   "metadata": {},
   "outputs": [
    {
     "data": {
      "text/plain": [
       "array([[10, 10],\n",
       "       [10, 10]])"
      ]
     },
     "execution_count": 6,
     "metadata": {},
     "output_type": "execute_result"
    }
   ],
   "source": [
    "#initializing numpy array with same number\n",
    "\n",
    "import numpy as np\n",
    "n5 = np.full((2,2),10)\n",
    "n5"
   ]
  },
  {
   "cell_type": "code",
   "execution_count": 7,
   "id": "7c6fd3e6",
   "metadata": {},
   "outputs": [
    {
     "data": {
      "text/plain": [
       "array([[9, 9, 9, 9],\n",
       "       [9, 9, 9, 9],\n",
       "       [9, 9, 9, 9],\n",
       "       [9, 9, 9, 9]])"
      ]
     },
     "execution_count": 7,
     "metadata": {},
     "output_type": "execute_result"
    }
   ],
   "source": [
    "import numpy as np\n",
    "n6 = np.full((4,4),9)\n",
    "n6"
   ]
  },
  {
   "cell_type": "code",
   "execution_count": 8,
   "id": "ec3588fc",
   "metadata": {},
   "outputs": [
    {
     "data": {
      "text/plain": [
       "array([10, 11, 12, 13, 14, 15, 16, 17, 18, 19])"
      ]
     },
     "execution_count": 8,
     "metadata": {},
     "output_type": "execute_result"
    }
   ],
   "source": [
    "#initializing numpy array within a range\n",
    "import numpy as np\n",
    "n1=np.arange(10,20)  #in this ex 10 is starting range and 20 is ending range \n",
    "n1"
   ]
  },
  {
   "cell_type": "code",
   "execution_count": 9,
   "id": "948735d0",
   "metadata": {},
   "outputs": [
    {
     "data": {
      "text/plain": [
       "array([ 10,  15,  20,  25,  30,  35,  40,  45,  50,  55,  60,  65,  70,\n",
       "        75,  80,  85,  90,  95, 100])"
      ]
     },
     "execution_count": 9,
     "metadata": {},
     "output_type": "execute_result"
    }
   ],
   "source": [
    "import numpy as np \n",
    "n2=np.arange(10,101,5)    #in this ex 10 is starting range and 101 is ending range , and 5 is increment\n",
    "n2"
   ]
  },
  {
   "cell_type": "code",
   "execution_count": 10,
   "id": "354e7882",
   "metadata": {},
   "outputs": [
    {
     "data": {
      "text/plain": [
       "array([64, 55, 53, 70, 29])"
      ]
     },
     "execution_count": 10,
     "metadata": {},
     "output_type": "execute_result"
    }
   ],
   "source": [
    "#initializing numpy array with random numbers\n",
    "import numpy as np\n",
    "n1=np.random.randint(1,100,5)  #range start from 1 to 100 and 5 is find 5 random numbers\n",
    "n1\n"
   ]
  },
  {
   "cell_type": "code",
   "execution_count": 11,
   "id": "f73fe647",
   "metadata": {},
   "outputs": [
    {
     "data": {
      "text/plain": [
       "(2, 3)"
      ]
     },
     "execution_count": 11,
     "metadata": {},
     "output_type": "execute_result"
    }
   ],
   "source": [
    "#checking the shape of numpy arrays\n",
    "\n",
    "import numpy as np\n",
    "n1=np.array([[1,2,3],[4,5,6]])\n",
    "n1.shape\n",
    "\n",
    "\n",
    "\n",
    "\n",
    "#in output the first number is row and second number is coluam "
   ]
  },
  {
   "cell_type": "code",
   "execution_count": 12,
   "id": "1e2018a4",
   "metadata": {},
   "outputs": [
    {
     "data": {
      "text/plain": [
       "(3, 2)"
      ]
     },
     "execution_count": 12,
     "metadata": {},
     "output_type": "execute_result"
    }
   ],
   "source": [
    "#change the shape of array \n",
    "n1.shape=(3,2)\n",
    "n1.shape            #it change all the thing like row becomes column and column becomes raw"
   ]
  },
  {
   "cell_type": "code",
   "execution_count": 13,
   "id": "1e42121b",
   "metadata": {},
   "outputs": [
    {
     "data": {
      "text/plain": [
       "array([[1, 2],\n",
       "       [3, 4],\n",
       "       [5, 6]])"
      ]
     },
     "execution_count": 13,
     "metadata": {},
     "output_type": "execute_result"
    }
   ],
   "source": [
    "n1"
   ]
  },
  {
   "cell_type": "code",
   "execution_count": 14,
   "id": "5f638f84",
   "metadata": {},
   "outputs": [],
   "source": [
    "#stacking methods are given below\n",
    "# 1 vstack() method\n",
    "# 2 hstack() method\n",
    "# column_stack() method"
   ]
  },
  {
   "cell_type": "code",
   "execution_count": 15,
   "id": "6e1768aa",
   "metadata": {},
   "outputs": [
    {
     "data": {
      "text/plain": [
       "array([[40, 50, 60],\n",
       "       [10, 20, 30]])"
      ]
     },
     "execution_count": 15,
     "metadata": {},
     "output_type": "execute_result"
    }
   ],
   "source": [
    "# 1 vstack() method\n",
    "\n",
    "import numpy as np\n",
    "n1=np.array([10,20,30])\n",
    "n2=np.array([40,50,60])    #vtsack method is use to change the verticle things \n",
    "\n",
    "np.vstack((n2,n1))\n"
   ]
  },
  {
   "cell_type": "code",
   "execution_count": 16,
   "id": "b1833903",
   "metadata": {},
   "outputs": [
    {
     "data": {
      "text/plain": [
       "array([10, 20, 30, 40, 50, 60])"
      ]
     },
     "execution_count": 16,
     "metadata": {},
     "output_type": "execute_result"
    }
   ],
   "source": [
    "#2 hstack() method\n",
    "    #htsack method is use to change the horizonta things \n",
    "    \n",
    "import numpy as np \n",
    "n1=np.array([10,20,30])\n",
    "n2=np.array([40,50,60])\n",
    "\n",
    "np.hstack((n1,n2))"
   ]
  },
  {
   "cell_type": "code",
   "execution_count": 17,
   "id": "ced48a71",
   "metadata": {},
   "outputs": [
    {
     "data": {
      "text/plain": [
       "array([[10, 40],\n",
       "       [20, 50],\n",
       "       [30, 60]])"
      ]
     },
     "execution_count": 17,
     "metadata": {},
     "output_type": "execute_result"
    }
   ],
   "source": [
    "# column_stack() method\n",
    "#this method is use change the raw in column \n",
    "    \n",
    "\n",
    "n1=np.array([10,20,30])\n",
    "n2=np.array([40,50,60])\n",
    "\n",
    "np.column_stack((n1,n2))"
   ]
  },
  {
   "cell_type": "code",
   "execution_count": 18,
   "id": "eadf12b2",
   "metadata": {},
   "outputs": [
    {
     "data": {
      "text/plain": [
       "array([50, 60])"
      ]
     },
     "execution_count": 18,
     "metadata": {},
     "output_type": "execute_result"
    }
   ],
   "source": [
    "#intersection and difference\n",
    "#intersect1d\n",
    "#setdiff1d\n",
    "\n",
    "import numpy as np\n",
    "n1=np.array([10,20,30,40,50,60])\n",
    "n2=np.array([50,60,70,80,90])\n",
    "\n",
    "np.intersect1d(n1,n2)\n"
   ]
  },
  {
   "cell_type": "code",
   "execution_count": 19,
   "id": "827e41ca",
   "metadata": {},
   "outputs": [
    {
     "data": {
      "text/plain": [
       "array([10, 20, 30, 40])"
      ]
     },
     "execution_count": 19,
     "metadata": {},
     "output_type": "execute_result"
    }
   ],
   "source": [
    "import numpy as np \n",
    "n1=np.array([10,20,30,40,50,60,70])\n",
    "n2=np.array([50,60,70,80,90])\n",
    "np.setdiff1d(n1,n2)"
   ]
  },
  {
   "cell_type": "code",
   "execution_count": 20,
   "id": "686918cb",
   "metadata": {},
   "outputs": [
    {
     "data": {
      "text/plain": [
       "array([80, 90])"
      ]
     },
     "execution_count": 20,
     "metadata": {},
     "output_type": "execute_result"
    }
   ],
   "source": [
    "n1=np.array([10,20,30,40,50,60,70])\n",
    "n2=np.array([50,60,70,80,90])\n",
    "np.setdiff1d(n2,n1)"
   ]
  },
  {
   "cell_type": "code",
   "execution_count": 21,
   "id": "6127b02d",
   "metadata": {},
   "outputs": [],
   "source": [
    "\n",
    "#mathematics\n",
    "\n",
    "#additiona array"
   ]
  },
  {
   "cell_type": "code",
   "execution_count": 22,
   "id": "79182c0c",
   "metadata": {},
   "outputs": [
    {
     "data": {
      "text/plain": [
       "100"
      ]
     },
     "execution_count": 22,
     "metadata": {},
     "output_type": "execute_result"
    }
   ],
   "source": [
    "import numpy as np   #this method is use to add all elements in array\n",
    "n1=np.array([10,20])\n",
    "n2=np.array([30,40])\n",
    "np.sum([n1,n2])"
   ]
  },
  {
   "cell_type": "code",
   "execution_count": 23,
   "id": "4f15dc21",
   "metadata": {},
   "outputs": [
    {
     "data": {
      "text/plain": [
       "array([40, 60])"
      ]
     },
     "execution_count": 23,
     "metadata": {},
     "output_type": "execute_result"
    }
   ],
   "source": [
    "import numpy as np\n",
    "n1=np.array([10,20]) #this method is use to add all column in array\n",
    "n2=np.array([30,40])\n",
    "np.sum([n1,n2],axis=0)"
   ]
  },
  {
   "cell_type": "code",
   "execution_count": 24,
   "id": "3d73310c",
   "metadata": {},
   "outputs": [
    {
     "data": {
      "text/plain": [
       "array([30, 70])"
      ]
     },
     "execution_count": 24,
     "metadata": {},
     "output_type": "execute_result"
    }
   ],
   "source": [
    "import numpy as np\n",
    "n1=np.array([10,20])\n",
    "n2=np.array([30,40])\n",
    "np.sum([n1,n2],axis=1)"
   ]
  },
  {
   "cell_type": "code",
   "execution_count": 25,
   "id": "86b65298",
   "metadata": {},
   "outputs": [
    {
     "data": {
      "text/plain": [
       "array([70, 30])"
      ]
     },
     "execution_count": 25,
     "metadata": {},
     "output_type": "execute_result"
    }
   ],
   "source": [
    "n1=np.array([10,20])\n",
    "n2=np.array([30,40])\n",
    "np.sum([n2,n1],axis=1)"
   ]
  },
  {
   "cell_type": "code",
   "execution_count": 26,
   "id": "c87f7128",
   "metadata": {},
   "outputs": [
    {
     "data": {
      "text/plain": [
       "array([11, 21, 31])"
      ]
     },
     "execution_count": 26,
     "metadata": {},
     "output_type": "execute_result"
    }
   ],
   "source": [
    "#scalar opretion \n",
    "#basic addition\n",
    "\n",
    "import numpy as np\n",
    "n1=np.array([10,20,30])\n",
    "n1=n1+1\n",
    "n1"
   ]
  },
  {
   "cell_type": "code",
   "execution_count": 27,
   "id": "f0a42d08",
   "metadata": {},
   "outputs": [
    {
     "data": {
      "text/plain": [
       "array([ 9, 19, 29])"
      ]
     },
     "execution_count": 27,
     "metadata": {},
     "output_type": "execute_result"
    }
   ],
   "source": [
    "#basic subtraction \n",
    "\n",
    "import numpy as np\n",
    "n1=np.array([10,20,30])\n",
    "n1=n1-1\n",
    "n1"
   ]
  },
  {
   "cell_type": "code",
   "execution_count": 28,
   "id": "d03b51d9",
   "metadata": {},
   "outputs": [
    {
     "data": {
      "text/plain": [
       "array([ 50, 100, 150])"
      ]
     },
     "execution_count": 28,
     "metadata": {},
     "output_type": "execute_result"
    }
   ],
   "source": [
    "#basic multiplication\n",
    "n1=np.array([10,20,30])\n",
    "n1=n1*5\n",
    "n1"
   ]
  },
  {
   "cell_type": "code",
   "execution_count": 29,
   "id": "260a169c",
   "metadata": {},
   "outputs": [
    {
     "data": {
      "text/plain": [
       "array([2., 4., 6.])"
      ]
     },
     "execution_count": 29,
     "metadata": {},
     "output_type": "execute_result"
    }
   ],
   "source": [
    "#basic division\n",
    "n1=np.array([10,20,30])\n",
    "n1=n1/5\n",
    "n1"
   ]
  },
  {
   "cell_type": "code",
   "execution_count": 30,
   "id": "995a2d93",
   "metadata": {},
   "outputs": [
    {
     "data": {
      "text/plain": [
       "25.0"
      ]
     },
     "execution_count": 30,
     "metadata": {},
     "output_type": "execute_result"
    }
   ],
   "source": [
    "#for mean value\n",
    "import numpy as np\n",
    "n1=np.array([10,20,30,40])\n",
    "np.mean(n1)"
   ]
  },
  {
   "cell_type": "code",
   "execution_count": 31,
   "id": "4ac2f026",
   "metadata": {},
   "outputs": [
    {
     "data": {
      "text/plain": [
       "30.0"
      ]
     },
     "execution_count": 31,
     "metadata": {},
     "output_type": "execute_result"
    }
   ],
   "source": [
    "#for median\n",
    "import numpy as np \n",
    "n1=np.array([10,20,30,40,50])\n",
    "np.median(n1)"
   ]
  },
  {
   "cell_type": "code",
   "execution_count": 32,
   "id": "e721e519",
   "metadata": {},
   "outputs": [
    {
     "data": {
      "text/plain": [
       "133.67093314309935"
      ]
     },
     "execution_count": 32,
     "metadata": {},
     "output_type": "execute_result"
    }
   ],
   "source": [
    "#for standard deviation \n",
    "import numpy as np\n",
    "n1=np.array([1,4,5,37,399,30,40])\n",
    "np.std(n1)"
   ]
  },
  {
   "cell_type": "code",
   "execution_count": 33,
   "id": "57923ae5",
   "metadata": {},
   "outputs": [],
   "source": [
    "#matrix\n",
    "import numpy as np\n",
    "n1=np.array([[1,2,3],[4,5,6],[7,8,9]])\n",
    "n2=np.array([[9,8,7],[6,5,4],[3,2,1]])"
   ]
  },
  {
   "cell_type": "code",
   "execution_count": 34,
   "id": "4acdddb1",
   "metadata": {},
   "outputs": [
    {
     "data": {
      "text/plain": [
       "array([1, 2, 3])"
      ]
     },
     "execution_count": 34,
     "metadata": {},
     "output_type": "execute_result"
    }
   ],
   "source": [
    "n1[0]"
   ]
  },
  {
   "cell_type": "code",
   "execution_count": 35,
   "id": "57839e58",
   "metadata": {},
   "outputs": [
    {
     "data": {
      "text/plain": [
       "array([7, 8, 9])"
      ]
     },
     "execution_count": 35,
     "metadata": {},
     "output_type": "execute_result"
    }
   ],
   "source": [
    "n1[2]"
   ]
  },
  {
   "cell_type": "code",
   "execution_count": 36,
   "id": "1557a3a5",
   "metadata": {},
   "outputs": [
    {
     "data": {
      "text/plain": [
       "array([4, 5, 6])"
      ]
     },
     "execution_count": 36,
     "metadata": {},
     "output_type": "execute_result"
    }
   ],
   "source": [
    "n1[1]"
   ]
  },
  {
   "cell_type": "code",
   "execution_count": 37,
   "id": "ecce6362",
   "metadata": {},
   "outputs": [
    {
     "data": {
      "text/plain": [
       "array([1, 4, 7])"
      ]
     },
     "execution_count": 37,
     "metadata": {},
     "output_type": "execute_result"
    }
   ],
   "source": [
    "n1[:,0]"
   ]
  },
  {
   "cell_type": "code",
   "execution_count": 38,
   "id": "992f36b5",
   "metadata": {},
   "outputs": [
    {
     "data": {
      "text/plain": [
       "array([2, 5, 8])"
      ]
     },
     "execution_count": 38,
     "metadata": {},
     "output_type": "execute_result"
    }
   ],
   "source": [
    "n1[:,1]"
   ]
  },
  {
   "cell_type": "code",
   "execution_count": 39,
   "id": "530d8cd9",
   "metadata": {},
   "outputs": [
    {
     "data": {
      "text/plain": [
       "array([[1, 4, 7],\n",
       "       [2, 5, 8],\n",
       "       [3, 6, 9]])"
      ]
     },
     "execution_count": 39,
     "metadata": {},
     "output_type": "execute_result"
    }
   ],
   "source": [
    "n1.transpose()"
   ]
  },
  {
   "cell_type": "code",
   "execution_count": 40,
   "id": "ac0e1402",
   "metadata": {},
   "outputs": [
    {
     "data": {
      "text/plain": [
       "array([[ 4,  8, 12],\n",
       "       [16, 20, 24],\n",
       "       [28, 32, 36]])"
      ]
     },
     "execution_count": 40,
     "metadata": {},
     "output_type": "execute_result"
    }
   ],
   "source": [
    "n1.dot(4)"
   ]
  },
  {
   "cell_type": "code",
   "execution_count": 41,
   "id": "a825d229",
   "metadata": {},
   "outputs": [
    {
     "data": {
      "text/plain": [
       "array([[ 30,  24,  18],\n",
       "       [ 84,  69,  54],\n",
       "       [138, 114,  90]])"
      ]
     },
     "execution_count": 41,
     "metadata": {},
     "output_type": "execute_result"
    }
   ],
   "source": [
    "n1.dot(n2)"
   ]
  },
  {
   "cell_type": "code",
   "execution_count": 42,
   "id": "2730882f",
   "metadata": {},
   "outputs": [
    {
     "name": "stdout",
     "output_type": "stream",
     "text": [
      "2nd element on 1st row:  3\n"
     ]
    }
   ],
   "source": [
    "import numpy as np\n",
    "\n",
    "arr = np.array([[1,2,3,4,5], [6,7,8,9,10]])\n",
    "\n",
    "print('2nd element on 1st row: ', arr[0, 2])"
   ]
  },
  {
   "cell_type": "code",
   "execution_count": 43,
   "id": "5cbcb744",
   "metadata": {},
   "outputs": [
    {
     "name": "stdout",
     "output_type": "stream",
     "text": [
      "2nd element on 1st row:  7\n"
     ]
    }
   ],
   "source": [
    "import numpy as np\n",
    "\n",
    "arr = np.array([[1,2,3,4,5], [6,7,8,9,10]])\n",
    "\n",
    "print('2nd element on 1st row: ', arr[1, 1])"
   ]
  },
  {
   "cell_type": "code",
   "execution_count": 44,
   "id": "90e5a5ed",
   "metadata": {},
   "outputs": [
    {
     "name": "stdout",
     "output_type": "stream",
     "text": [
      "6\n"
     ]
    }
   ],
   "source": [
    "#Access the third element of the second array of the first array:\n",
    "import numpy as np\n",
    "\n",
    "arr = np.array([[[1, 2, 3], [4, 5, 6]], [[7, 8, 9], [10, 11, 12]]])\n",
    "\n",
    "print(arr[0, 1, 2])"
   ]
  },
  {
   "cell_type": "code",
   "execution_count": 45,
   "id": "3e9fc85f",
   "metadata": {},
   "outputs": [
    {
     "data": {
      "text/plain": [
       "'Example Explained\\narr[0, 1, 2] prints the value 6.\\n\\nAnd this is why:\\n\\nThe first number represents the first dimension, which contains two arrays:\\n[[1, 2, 3], [4, 5, 6]]\\nand:\\n[[7, 8, 9], [10, 11, 12]]\\nSince we selected 0, we are left with the first array:\\n[[1, 2, 3], [4, 5, 6]]\\n\\nThe second number represents the second dimension, which also contains two arrays:\\n[1, 2, 3]\\nand:\\n[4, 5, 6]\\nSince we selected 1, we are left with the second array:\\n[4, 5, 6]\\n\\nThe third number represents the third dimension, which contains three values:\\n4\\n5\\n6\\nSince we selected 2, we end up with the third value:\\n6\\n'"
      ]
     },
     "execution_count": 45,
     "metadata": {},
     "output_type": "execute_result"
    }
   ],
   "source": [
    "'''Example Explained\n",
    "arr[0, 1, 2] prints the value 6.\n",
    "\n",
    "And this is why:\n",
    "\n",
    "The first number represents the first dimension, which contains two arrays:\n",
    "[[1, 2, 3], [4, 5, 6]]\n",
    "and:\n",
    "[[7, 8, 9], [10, 11, 12]]\n",
    "Since we selected 0, we are left with the first array:\n",
    "[[1, 2, 3], [4, 5, 6]]\n",
    "\n",
    "The second number represents the second dimension, which also contains two arrays:\n",
    "[1, 2, 3]\n",
    "and:\n",
    "[4, 5, 6]\n",
    "Since we selected 1, we are left with the second array:\n",
    "[4, 5, 6]\n",
    "\n",
    "The third number represents the third dimension, which contains three values:\n",
    "4\n",
    "5\n",
    "6\n",
    "Since we selected 2, we end up with the third value:\n",
    "6\n",
    "'''"
   ]
  },
  {
   "cell_type": "code",
   "execution_count": 46,
   "id": "56cf6946",
   "metadata": {},
   "outputs": [
    {
     "name": "stdout",
     "output_type": "stream",
     "text": [
      "Last element from 2nd dim:  10\n"
     ]
    }
   ],
   "source": [
    "#Print the last element from the 2nd dim:\n",
    "\n",
    "import numpy as np\n",
    "\n",
    "arr = np.array([[1,2,3,4,5], [6,7,8,9,10]])\n",
    "\n",
    "print('Last element from 2nd dim: ', arr[1, -1])\n"
   ]
  },
  {
   "cell_type": "code",
   "execution_count": null,
   "id": "e5c583d7",
   "metadata": {},
   "outputs": [],
   "source": []
  }
 ],
 "metadata": {
  "kernelspec": {
   "display_name": "Python 3 (ipykernel)",
   "language": "python",
   "name": "python3"
  },
  "language_info": {
   "codemirror_mode": {
    "name": "ipython",
    "version": 3
   },
   "file_extension": ".py",
   "mimetype": "text/x-python",
   "name": "python",
   "nbconvert_exporter": "python",
   "pygments_lexer": "ipython3",
   "version": "3.9.13"
  }
 },
 "nbformat": 4,
 "nbformat_minor": 5
}
